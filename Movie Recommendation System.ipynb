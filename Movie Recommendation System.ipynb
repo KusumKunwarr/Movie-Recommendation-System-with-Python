{
 "cells": [
  {
   "cell_type": "code",
   "execution_count": 2,
   "id": "3cabe1d8-08c4-43d0-8c0f-a16152e2dcf0",
   "metadata": {},
   "outputs": [],
   "source": [
    "import numpy as np\n",
    "import pandas as pd\n",
    "import difflib\n",
    "from sklearn.feature_extraction.text import TfidfVectorizer\n",
    "from sklearn.metrics.pairwise import cosine_similarity\n"
   ]
  },
  {
   "cell_type": "code",
   "execution_count": null,
   "id": "97ceb79b-42e2-4c50-9783-8bf2ab1ee918",
   "metadata": {},
   "outputs": [],
   "source": [
    "# loading the data from the csv file to apandas dataframe\n",
    "movies_data = pd.read_csv(\"C:/Users/Kusum Kunwar/Desktop/Python Project/movies.csv\")"
   ]
  }
 ],
 "metadata": {
  "kernelspec": {
   "display_name": "Python 3 (ipykernel)",
   "language": "python",
   "name": "python3"
  },
  "language_info": {
   "codemirror_mode": {
    "name": "ipython",
    "version": 3
   },
   "file_extension": ".py",
   "mimetype": "text/x-python",
   "name": "python",
   "nbconvert_exporter": "python",
   "pygments_lexer": "ipython3",
   "version": "3.11.7"
  }
 },
 "nbformat": 4,
 "nbformat_minor": 5
}
