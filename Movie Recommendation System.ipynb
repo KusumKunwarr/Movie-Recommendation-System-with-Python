{
 "cells": [
  {
   "cell_type": "markdown",
   "id": "01f39eec",
   "metadata": {},
   "source": [
    "Importing Dependencies"
   ]
  },
  {
   "cell_type": "code",
   "execution_count": 12,
   "id": "3cabe1d8-08c4-43d0-8c0f-a16152e2dcf0",
   "metadata": {},
   "outputs": [],
   "source": [
    "import numpy as np\n",
    "import pandas as pd\n",
    "import difflib\n",
    "from sklearn.feature_extraction.text import TfidfVectorizer\n",
    "from sklearn.metrics.pairwise import cosine_similarity\n"
   ]
  },
  {
   "cell_type": "markdown",
   "id": "04ffec3d",
   "metadata": {},
   "source": [
    "Data Collection and Pre-Processing"
   ]
  },
  {
   "cell_type": "code",
   "execution_count": 13,
   "id": "97ceb79b-42e2-4c50-9783-8bf2ab1ee918",
   "metadata": {},
   "outputs": [],
   "source": [
    "# loading the data from the csv file to apandas dataframe\n",
    "movies_data = pd.read_csv(\"C:/Users/Kusum Kunwar/Desktop/Python Project/movies.csv\")"
   ]
  },
  {
   "cell_type": "code",
   "execution_count": null,
   "id": "7067be53",
   "metadata": {},
   "outputs": [],
   "source": [
    "movies_data"
   ]
  },
  {
   "cell_type": "code",
   "execution_count": null,
   "id": "48bcd7f7",
   "metadata": {},
   "outputs": [],
   "source": [
    "# printing the first 5 rows of the dataframe\n",
    "movies_data.head()"
   ]
  },
  {
   "cell_type": "code",
   "execution_count": null,
   "id": "510c51c2",
   "metadata": {},
   "outputs": [],
   "source": [
    "# number of rows and columns in the data frame\n",
    "\n",
    "movies_data.shape"
   ]
  },
  {
   "cell_type": "code",
   "execution_count": null,
   "id": "e2c289b9",
   "metadata": {},
   "outputs": [],
   "source": [
    "# selecting the relevant features for recommendation\n",
    "\n",
    "selected_features = ['genres','keywords','tagline','cast','director']\n",
    "print(selected_features)"
   ]
  },
  {
   "cell_type": "code",
   "execution_count": 18,
   "id": "9b9b2913",
   "metadata": {},
   "outputs": [],
   "source": [
    "# replacing the null valuess with null string\n",
    "\n",
    "for feature in selected_features:\n",
    "  movies_data[feature] = movies_data[feature].fillna('')"
   ]
  },
  {
   "cell_type": "code",
   "execution_count": 19,
   "id": "48e043f1",
   "metadata": {},
   "outputs": [],
   "source": [
    "# combining all the 5 selected features\n",
    "\n",
    "combined_features = movies_data['genres']+' '+movies_data['keywords']+' '+movies_data['tagline']+' '+movies_data['cast']+' '+movies_data['director']"
   ]
  },
  {
   "cell_type": "code",
   "execution_count": 22,
   "id": "c9b04f3e",
   "metadata": {},
   "outputs": [
    {
     "name": "stdout",
     "output_type": "stream",
     "text": [
      "0       Action Adventure Fantasy Science Fiction cultu...\n",
      "1       Adventure Fantasy Action ocean drug abuse exot...\n",
      "2       Action Adventure Crime spy based on novel secr...\n",
      "3       Action Crime Drama Thriller dc comics crime fi...\n",
      "4       Action Adventure Science Fiction based on nove...\n",
      "                              ...                        \n",
      "4798    Action Crime Thriller united states\\u2013mexic...\n",
      "4799    Comedy Romance  A newlywed couple's honeymoon ...\n",
      "4800    Comedy Drama Romance TV Movie date love at fir...\n",
      "4801      A New Yorker in Shanghai Daniel Henney Eliza...\n",
      "4802    Documentary obsession camcorder crush dream gi...\n",
      "Length: 4803, dtype: object\n"
     ]
    }
   ],
   "source": [
    "print(combined_features)"
   ]
  },
  {
   "cell_type": "code",
   "execution_count": 23,
   "id": "58801d66",
   "metadata": {},
   "outputs": [],
   "source": [
    "# converting the text data to feature vectors\n",
    "\n",
    "vectorizer = TfidfVectorizer()"
   ]
  },
  {
   "cell_type": "code",
   "execution_count": 24,
   "id": "ec88c4b8",
   "metadata": {},
   "outputs": [
    {
     "name": "stdout",
     "output_type": "stream",
     "text": [
      "  (0, 2432)\t0.17272411194153\n",
      "  (0, 7755)\t0.1128035714854756\n",
      "  (0, 13024)\t0.1942362060108871\n",
      "  (0, 10229)\t0.16058685400095302\n",
      "  (0, 8756)\t0.22709015857011816\n",
      "  (0, 14608)\t0.15150672398763912\n",
      "  (0, 16668)\t0.19843263965100372\n",
      "  (0, 14064)\t0.20596090415084142\n",
      "  (0, 13319)\t0.2177470539412484\n",
      "  (0, 17290)\t0.20197912553916567\n",
      "  (0, 17007)\t0.23643326319898797\n",
      "  (0, 13349)\t0.15021264094167086\n",
      "  (0, 11503)\t0.27211310056983656\n",
      "  (0, 11192)\t0.09049319826481456\n",
      "  (0, 16998)\t0.1282126322850579\n",
      "  (0, 15261)\t0.07095833561276566\n",
      "  (0, 4945)\t0.24025852494110758\n",
      "  (0, 14271)\t0.21392179219912877\n",
      "  (0, 3225)\t0.24960162956997736\n",
      "  (0, 16587)\t0.12549432354918996\n",
      "  (0, 14378)\t0.33962752210959823\n",
      "  (0, 5836)\t0.1646750903586285\n",
      "  (0, 3065)\t0.22208377802661425\n",
      "  (0, 3678)\t0.21392179219912877\n",
      "  (0, 5437)\t0.1036413987316636\n",
      "  :\t:\n",
      "  (4801, 17266)\t0.2886098184932947\n",
      "  (4801, 4835)\t0.24713765026963996\n",
      "  (4801, 403)\t0.17727585190343226\n",
      "  (4801, 6935)\t0.2886098184932947\n",
      "  (4801, 11663)\t0.21557500762727902\n",
      "  (4801, 1672)\t0.1564793427630879\n",
      "  (4801, 10929)\t0.13504166990041588\n",
      "  (4801, 7474)\t0.11307961713172225\n",
      "  (4801, 3796)\t0.3342808988877418\n",
      "  (4802, 6996)\t0.5700048226105303\n",
      "  (4802, 5367)\t0.22969114490410403\n",
      "  (4802, 3654)\t0.262512960498006\n",
      "  (4802, 2425)\t0.24002350969074696\n",
      "  (4802, 4608)\t0.24002350969074696\n",
      "  (4802, 6417)\t0.21753405888348784\n",
      "  (4802, 4371)\t0.1538239182675544\n",
      "  (4802, 12989)\t0.1696476532191718\n",
      "  (4802, 1316)\t0.1960747079005741\n",
      "  (4802, 4528)\t0.19504460807622875\n",
      "  (4802, 3436)\t0.21753405888348784\n",
      "  (4802, 6155)\t0.18056463596934083\n",
      "  (4802, 4980)\t0.16078053641367315\n",
      "  (4802, 2129)\t0.3099656128577656\n",
      "  (4802, 4518)\t0.16784466610624255\n",
      "  (4802, 11161)\t0.17867407682173203\n"
     ]
    }
   ],
   "source": [
    "feature_vectors = vectorizer.fit_transform(combined_features)\n",
    "print(feature_vectors)"
   ]
  },
  {
   "cell_type": "markdown",
   "id": "5f7bebfc",
   "metadata": {},
   "source": [
    "Cosine Similarity"
   ]
  },
  {
   "cell_type": "code",
   "execution_count": 25,
   "id": "26edef89",
   "metadata": {},
   "outputs": [
    {
     "name": "stdout",
     "output_type": "stream",
     "text": [
      "[[1.         0.07219487 0.037733   ... 0.         0.         0.        ]\n",
      " [0.07219487 1.         0.03281499 ... 0.03575545 0.         0.        ]\n",
      " [0.037733   0.03281499 1.         ... 0.         0.05389661 0.        ]\n",
      " ...\n",
      " [0.         0.03575545 0.         ... 1.         0.         0.02651502]\n",
      " [0.         0.         0.05389661 ... 0.         1.         0.        ]\n",
      " [0.         0.         0.         ... 0.02651502 0.         1.        ]]\n"
     ]
    }
   ],
   "source": [
    "# getting the similarity scores using cosine similarity\n",
    "\n",
    "similarity = cosine_similarity(feature_vectors)\n",
    "print(similarity)"
   ]
  },
  {
   "cell_type": "code",
   "execution_count": 26,
   "id": "2b50e0f0",
   "metadata": {},
   "outputs": [
    {
     "name": "stdout",
     "output_type": "stream",
     "text": [
      "(4803, 4803)\n"
     ]
    }
   ],
   "source": [
    "print(similarity.shape)"
   ]
  },
  {
   "cell_type": "markdown",
   "id": "7f526d6b",
   "metadata": {},
   "source": [
    "Movie Recommending "
   ]
  },
  {
   "cell_type": "code",
   "execution_count": null,
   "id": "64caa3b8",
   "metadata": {},
   "outputs": [],
   "source": []
  }
 ],
 "metadata": {
  "kernelspec": {
   "display_name": "base",
   "language": "python",
   "name": "python3"
  },
  "language_info": {
   "codemirror_mode": {
    "name": "ipython",
    "version": 3
   },
   "file_extension": ".py",
   "mimetype": "text/x-python",
   "name": "python",
   "nbconvert_exporter": "python",
   "pygments_lexer": "ipython3",
   "version": "3.11.7"
  }
 },
 "nbformat": 4,
 "nbformat_minor": 5
}
